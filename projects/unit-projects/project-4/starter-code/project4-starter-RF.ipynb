{
 "cells": [
  {
   "cell_type": "markdown",
   "metadata": {},
   "source": [
    "# Project 4\n",
    "\n",
    "In this project, you will summarize and present your analysis from Projects 1-3."
   ]
  },
  {
   "cell_type": "markdown",
   "metadata": {},
   "source": [
    "### Intro: Write a problem Statement/ Specific Aim for this project"
   ]
  },
  {
   "cell_type": "markdown",
   "metadata": {},
   "source": [
    "Answer: We want to know what are the predictors of graduate school admisions are, including GRE scores, GPA, and especially prestige rankings from an undergraduate school."
   ]
  },
  {
   "cell_type": "markdown",
   "metadata": {},
   "source": [
    "### Dataset:  Write up a description of your data and any cleaning that was completed"
   ]
  },
  {
   "cell_type": "markdown",
   "metadata": {},
   "source": [
    "Answer: The data contains a total of 400 records which describes whether or not an applicant was admitted, based on three factors: gpa, gre score, and a prestige ranking from 1-4.  To prepare the data, records with partial information was excluded, and dummy variables were also created for the categorical data (prestige)."
   ]
  },
  {
   "cell_type": "markdown",
   "metadata": {
    "collapsed": true
   },
   "source": [
    "### Demo: Provide a table that explains the data by admission status"
   ]
  },
  {
   "cell_type": "markdown",
   "metadata": {},
   "source": [
    "Mean (STD) or counts by admission status for each variable \n",
    "\n",
    "| Not Admitted | Admitted\n",
    "---| ---|---\n",
    "GPA | mean(std)  | mean(std)\n",
    "GRE |mean(std) | mean(std)\n",
    "Prestige 1 | frequency (%) | frequency (%)\n",
    "Prestige 2 | frequency (%) | frequency (%)\n",
    "Prestige 3 |frequency (%) | frequency (%)\n",
    "Prestige 4 |frequency (%) | frequency (%)"
   ]
  },
  {
   "cell_type": "code",
   "execution_count": 4,
   "metadata": {
    "collapsed": false
   },
   "outputs": [
    {
     "data": {
      "text/html": [
       "<div>\n",
       "<table border=\"1\" class=\"dataframe\">\n",
       "  <thead>\n",
       "    <tr style=\"text-align: right;\">\n",
       "      <th>admit</th>\n",
       "      <th>0</th>\n",
       "      <th>1</th>\n",
       "    </tr>\n",
       "  </thead>\n",
       "  <tbody>\n",
       "    <tr>\n",
       "      <th>gre</th>\n",
       "      <td>573.579336</td>\n",
       "      <td>618.571429</td>\n",
       "    </tr>\n",
       "    <tr>\n",
       "      <th>gpa</th>\n",
       "      <td>3.347159</td>\n",
       "      <td>3.489206</td>\n",
       "    </tr>\n",
       "    <tr>\n",
       "      <th>prestige</th>\n",
       "      <td>2.645756</td>\n",
       "      <td>2.150794</td>\n",
       "    </tr>\n",
       "    <tr>\n",
       "      <th>pres_1.0</th>\n",
       "      <td>0.103321</td>\n",
       "      <td>0.261905</td>\n",
       "    </tr>\n",
       "    <tr>\n",
       "      <th>pres_2.0</th>\n",
       "      <td>0.350554</td>\n",
       "      <td>0.420635</td>\n",
       "    </tr>\n",
       "    <tr>\n",
       "      <th>pres_3.0</th>\n",
       "      <td>0.343173</td>\n",
       "      <td>0.222222</td>\n",
       "    </tr>\n",
       "    <tr>\n",
       "      <th>pres_4.0</th>\n",
       "      <td>0.202952</td>\n",
       "      <td>0.095238</td>\n",
       "    </tr>\n",
       "  </tbody>\n",
       "</table>\n",
       "</div>"
      ],
      "text/plain": [
       "admit              0           1\n",
       "gre       573.579336  618.571429\n",
       "gpa         3.347159    3.489206\n",
       "prestige    2.645756    2.150794\n",
       "pres_1.0    0.103321    0.261905\n",
       "pres_2.0    0.350554    0.420635\n",
       "pres_3.0    0.343173    0.222222\n",
       "pres_4.0    0.202952    0.095238"
      ]
     },
     "execution_count": 4,
     "metadata": {},
     "output_type": "execute_result"
    }
   ],
   "source": [
    "%matplotlib inline\n",
    "import matplotlib.pyplot as plt\n",
    "import pandas as pd\n",
    "import statsmodels.api as sm\n",
    "import pylab as pl\n",
    "import numpy as np\n",
    "\n",
    "df_raw = pd.read_csv(\"../assets/admissions.csv\")\n",
    "df = df_raw.dropna() \n",
    "df = df.join(pd.get_dummies(df['prestige'],prefix='pres'))\n",
    "df.groupby('admit').mean().T"
   ]
  },
  {
   "cell_type": "markdown",
   "metadata": {},
   "source": [
    "### Methods: Write up the methods used in your analysis"
   ]
  },
  {
   "cell_type": "markdown",
   "metadata": {},
   "source": [
    "Answer: Using the Stastsmodel package, a logistic regression was performed to fit the model.  We then looked at the odds ratio of the model"
   ]
  },
  {
   "cell_type": "markdown",
   "metadata": {},
   "source": [
    "### Results: Write up your results"
   ]
  },
  {
   "cell_type": "markdown",
   "metadata": {},
   "source": [
    "Answer:  GPA and GRE were found to be comparatively irrelevant compared to Prestige ranking using the logisic regression model.  Using the odds ratio, it became clear that a prestige rank of 1 was a strong determining factor in admissions, increasing the odds of admittance by 3.7X."
   ]
  },
  {
   "cell_type": "markdown",
   "metadata": {},
   "source": [
    "### Visuals: Provide a table or visualization of these results"
   ]
  },
  {
   "cell_type": "code",
   "execution_count": 6,
   "metadata": {
    "collapsed": false
   },
   "outputs": [
    {
     "name": "stdout",
     "output_type": "stream",
     "text": [
      "Optimization terminated successfully.\n",
      "         Current function value: 0.605465\n",
      "         Iterations 5\n",
      "Optimization terminated successfully.\n",
      "         Current function value: 0.605465\n",
      "         Iterations 5\n"
     ]
    },
    {
     "data": {
      "text/html": [
       "<table class=\"simpletable\">\n",
       "<caption>Logit Regression Results</caption>\n",
       "<tr>\n",
       "  <th>Dep. Variable:</th>       <td>admit</td>      <th>  No. Observations:  </th>  <td>   397</td> \n",
       "</tr>\n",
       "<tr>\n",
       "  <th>Model:</th>               <td>Logit</td>      <th>  Df Residuals:      </th>  <td>   392</td> \n",
       "</tr>\n",
       "<tr>\n",
       "  <th>Method:</th>               <td>MLE</td>       <th>  Df Model:          </th>  <td>     4</td> \n",
       "</tr>\n",
       "<tr>\n",
       "  <th>Date:</th>          <td>Wed, 18 Jan 2017</td> <th>  Pseudo R-squ.:     </th>  <td>0.03107</td>\n",
       "</tr>\n",
       "<tr>\n",
       "  <th>Time:</th>              <td>02:15:53</td>     <th>  Log-Likelihood:    </th> <td> -240.37</td>\n",
       "</tr>\n",
       "<tr>\n",
       "  <th>converged:</th>           <td>True</td>       <th>  LL-Null:           </th> <td> -248.08</td>\n",
       "</tr>\n",
       "<tr>\n",
       "  <th> </th>                      <td> </td>        <th>  LLR p-value:       </th> <td>0.003913</td>\n",
       "</tr>\n",
       "</table>\n",
       "<table class=\"simpletable\">\n",
       "<tr>\n",
       "      <td></td>         <th>coef</th>     <th>std err</th>      <th>z</th>      <th>P>|z|</th> <th>[95.0% Conf. Int.]</th> \n",
       "</tr>\n",
       "<tr>\n",
       "  <th>gre</th>       <td>    0.0011</td> <td>    0.001</td> <td>    1.043</td> <td> 0.297</td> <td>   -0.001     0.003</td>\n",
       "</tr>\n",
       "<tr>\n",
       "  <th>gpa</th>       <td>   -0.5162</td> <td>    0.192</td> <td>   -2.682</td> <td> 0.007</td> <td>   -0.893    -0.139</td>\n",
       "</tr>\n",
       "<tr>\n",
       "  <th>pres2_1.0</th> <td>    1.2948</td> <td>    0.385</td> <td>    3.361</td> <td> 0.001</td> <td>    0.540     2.050</td>\n",
       "</tr>\n",
       "<tr>\n",
       "  <th>pres2_2.0</th> <td>    0.5120</td> <td>    0.327</td> <td>    1.567</td> <td> 0.117</td> <td>   -0.129     1.153</td>\n",
       "</tr>\n",
       "<tr>\n",
       "  <th>pres2_3.0</th> <td>   -0.0504</td> <td>    0.354</td> <td>   -0.142</td> <td> 0.887</td> <td>   -0.745     0.644</td>\n",
       "</tr>\n",
       "</table>"
      ],
      "text/plain": [
       "<class 'statsmodels.iolib.summary.Summary'>\n",
       "\"\"\"\n",
       "                           Logit Regression Results                           \n",
       "==============================================================================\n",
       "Dep. Variable:                  admit   No. Observations:                  397\n",
       "Model:                          Logit   Df Residuals:                      392\n",
       "Method:                           MLE   Df Model:                            4\n",
       "Date:                Wed, 18 Jan 2017   Pseudo R-squ.:                 0.03107\n",
       "Time:                        02:15:53   Log-Likelihood:                -240.37\n",
       "converged:                       True   LL-Null:                       -248.08\n",
       "                                        LLR p-value:                  0.003913\n",
       "==============================================================================\n",
       "                 coef    std err          z      P>|z|      [95.0% Conf. Int.]\n",
       "------------------------------------------------------------------------------\n",
       "gre            0.0011      0.001      1.043      0.297        -0.001     0.003\n",
       "gpa           -0.5162      0.192     -2.682      0.007        -0.893    -0.139\n",
       "pres2_1.0      1.2948      0.385      3.361      0.001         0.540     2.050\n",
       "pres2_2.0      0.5120      0.327      1.567      0.117        -0.129     1.153\n",
       "pres2_3.0     -0.0504      0.354     -0.142      0.887        -0.745     0.644\n",
       "==============================================================================\n",
       "\"\"\""
      ]
     },
     "execution_count": 6,
     "metadata": {},
     "output_type": "execute_result"
    }
   ],
   "source": [
    "import statsmodels.api as sm\n",
    "cols_to_keep = ['admit', 'gre', 'gpa','pres_1.0','pres_2.0','pres_3.0']\n",
    "data = df[cols_to_keep].join(pd.get_dummies(df['prestige'],prefix='pres2'))\n",
    "data = data.ix[:,0:-1]\n",
    "data['intercept'] = 1.0\n",
    "train_cols = data[['gre', 'gpa', 'pres2_1.0', 'pres2_2.0', 'pres2_3.0']]\n",
    "lm = sm.Logit(data.admit, train_cols)\n",
    "lm.fit()\n",
    "result = lm.fit()\n",
    "result.summary()"
   ]
  },
  {
   "cell_type": "code",
   "execution_count": 7,
   "metadata": {
    "collapsed": false
   },
   "outputs": [
    {
     "data": {
      "text/plain": [
       "gre          1.001069\n",
       "gpa          0.596794\n",
       "pres2_1.0    3.650274\n",
       "pres2_2.0    1.668639\n",
       "pres2_3.0    0.950821\n",
       "dtype: float64"
      ]
     },
     "execution_count": 7,
     "metadata": {},
     "output_type": "execute_result"
    }
   ],
   "source": [
    "np.exp(result.params)"
   ]
  },
  {
   "cell_type": "markdown",
   "metadata": {},
   "source": [
    "### Discussion: Write up your discussion and future steps"
   ]
  },
  {
   "cell_type": "markdown",
   "metadata": {},
   "source": [
    "Answer: It would be also good to see how GPA and GRE play a role within each tier of Prestige.  Even though within the entire data set those two factors did not have the positive correlation as expected, there may be cases within a specific tier where they do play a factor (for example, if prestige is a 3 or 4, perhaps a high GRE and GPA become an applicant's only chance).  I also wonder whether linear regression might be possible strategy here, given than prestige is a 1-4 ranking."
   ]
  }
 ],
 "metadata": {
  "anaconda-cloud": {},
  "kernelspec": {
   "display_name": "Python [conda root]",
   "language": "python",
   "name": "conda-root-py"
  },
  "language_info": {
   "codemirror_mode": {
    "name": "ipython",
    "version": 3
   },
   "file_extension": ".py",
   "mimetype": "text/x-python",
   "name": "python",
   "nbconvert_exporter": "python",
   "pygments_lexer": "ipython3",
   "version": "3.5.2"
  }
 },
 "nbformat": 4,
 "nbformat_minor": 0
}
