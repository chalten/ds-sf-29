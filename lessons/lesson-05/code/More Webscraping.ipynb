{
 "cells": [
  {
   "cell_type": "code",
   "execution_count": 22,
   "metadata": {
    "collapsed": true
   },
   "outputs": [],
   "source": [
    "import sys\n",
    "import requests\n",
    "# you can also import urllib, but requests is generally considered to be a more useful package which contains much of whats availabe in urllib\n",
    "import re #regex for regular expressions\n",
    "from bs4 import BeautifulSoup\n",
    "from html.parser import HTMLParser"
   ]
  },
  {
   "cell_type": "code",
   "execution_count": 26,
   "metadata": {
    "collapsed": false
   },
   "outputs": [
    {
     "name": "stdout",
     "output_type": "stream",
     "text": [
      "Enter a URL: http://store.nike.com/us/en_us/pd/sphere-element-mens-long-sleeve-running-top/pid-11174056/pgid-11072139\n",
      "The url is now: http://store.nike.com/us/en_us/pd/sphere-element-mens-long-sleeve-running-top/pid-11174056/pgid-11072139\n"
     ]
    }
   ],
   "source": [
    "url = input(\"Enter a URL: \")  #in Python 2.7 the input function was called raw_input\n",
    "print (\"The url is now: \" + url)"
   ]
  },
  {
   "cell_type": "code",
   "execution_count": 27,
   "metadata": {
    "collapsed": false
   },
   "outputs": [],
   "source": [
    "if url == \"\":\n",
    "    url = \"http://store.nike.com/us/en_us/pd/sphere-element-mens-long-sleeve-running-top/pid-11174056/pgid-11072139\"\n",
    "else:\n",
    "    url = url\n",
    "\n",
    "url_request = requests.get(url)\n",
    "b = BeautifulSoup(url_request.text, 'html.parser')"
   ]
  },
  {
   "cell_type": "code",
   "execution_count": 4,
   "metadata": {
    "collapsed": true
   },
   "outputs": [],
   "source": [
    "# b.prettify()"
   ]
  },
  {
   "cell_type": "code",
   "execution_count": 11,
   "metadata": {
    "collapsed": false
   },
   "outputs": [],
   "source": [
    "# b.findAll('script')"
   ]
  },
  {
   "cell_type": "code",
   "execution_count": 39,
   "metadata": {
    "collapsed": false
   },
   "outputs": [],
   "source": [
    "re_tag = re.compile(\"product-data\", re.UNICODE)\n",
    "re_tag2 = re.compile(\"template-data\",  re.UNICODE)\n",
    "script_tag = b.find('script', attrs={'id': re_tag, 'type': re_tag2}) "
   ]
  },
  {
   "cell_type": "code",
   "execution_count": 41,
   "metadata": {
    "collapsed": false
   },
   "outputs": [
    {
     "ename": "AttributeError",
     "evalue": "'NoneType' object has no attribute 'productID'",
     "output_type": "error",
     "traceback": [
      "\u001b[0;31m---------------------------------------------------------------------------\u001b[0m",
      "\u001b[0;31mAttributeError\u001b[0m                            Traceback (most recent call last)",
      "\u001b[0;32m<ipython-input-41-ea3f9422d6d5>\u001b[0m in \u001b[0;36m<module>\u001b[0;34m()\u001b[0m\n\u001b[0;32m----> 1\u001b[0;31m \u001b[0mprint\u001b[0m \u001b[1;33m(\u001b[0m\u001b[0mscript_tag\u001b[0m\u001b[1;33m.\u001b[0m\u001b[0mproductID\u001b[0m\u001b[1;33m)\u001b[0m\u001b[1;33m\u001b[0m\u001b[0m\n\u001b[0m",
      "\u001b[0;31mAttributeError\u001b[0m: 'NoneType' object has no attribute 'productID'"
     ]
    }
   ],
   "source": [
    "print (script_tag.productID)"
   ]
  },
  {
   "cell_type": "code",
   "execution_count": null,
   "metadata": {
    "collapsed": true
   },
   "outputs": [],
   "source": []
  }
 ],
 "metadata": {
  "anaconda-cloud": {},
  "kernelspec": {
   "display_name": "Python [conda root]",
   "language": "python",
   "name": "conda-root-py"
  },
  "language_info": {
   "codemirror_mode": {
    "name": "ipython",
    "version": 3
   },
   "file_extension": ".py",
   "mimetype": "text/x-python",
   "name": "python",
   "nbconvert_exporter": "python",
   "pygments_lexer": "ipython3",
   "version": "3.5.2"
  }
 },
 "nbformat": 4,
 "nbformat_minor": 1
}
