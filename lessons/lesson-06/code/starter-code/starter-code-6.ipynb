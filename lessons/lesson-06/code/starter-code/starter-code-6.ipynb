{
 "cells": [
  {
   "cell_type": "markdown",
   "metadata": {},
   "source": [
    "# Lesson 6 - Starter Code"
   ]
  },
  {
   "cell_type": "code",
   "execution_count": 20,
   "metadata": {
    "collapsed": false
   },
   "outputs": [],
   "source": [
    "%matplotlib inline\n",
    "import numpy as np\n",
    "import pandas as pd\n",
    "from matplotlib import pyplot as plt\n",
    "\n",
    "\n",
    "import sklearn.linear_model\n",
    "\n",
    "# read in the mammal dataset\n",
    "wd = '../../assets/dataset/msleep/'\n",
    "mammals = pd.read_csv(wd+'msleep.csv')   # automatically puts the csv into a dataframe\n",
    "mammals = mammals[mammals.brainwt.notnull()].copy()   # takes the rows with non-null brainwt, returning the index; then takes the entire row based on the index; then lastly replaces mammals"
   ]
  },
  {
   "cell_type": "markdown",
   "metadata": {},
   "source": [
    "### Explore our mammals dataset"
   ]
  },
  {
   "cell_type": "code",
   "execution_count": 4,
   "metadata": {
    "collapsed": false
   },
   "outputs": [
    {
     "data": {
      "text/html": [
       "<div>\n",
       "<table border=\"1\" class=\"dataframe\">\n",
       "  <thead>\n",
       "    <tr style=\"text-align: right;\">\n",
       "      <th></th>\n",
       "      <th>name</th>\n",
       "      <th>genus</th>\n",
       "      <th>vore</th>\n",
       "      <th>order</th>\n",
       "      <th>conservation</th>\n",
       "      <th>sleep_total</th>\n",
       "      <th>sleep_rem</th>\n",
       "      <th>sleep_cycle</th>\n",
       "      <th>awake</th>\n",
       "      <th>brainwt</th>\n",
       "      <th>bodywt</th>\n",
       "    </tr>\n",
       "  </thead>\n",
       "  <tbody>\n",
       "    <tr>\n",
       "      <th>1</th>\n",
       "      <td>Owl monkey</td>\n",
       "      <td>Aotus</td>\n",
       "      <td>omni</td>\n",
       "      <td>Primates</td>\n",
       "      <td>NaN</td>\n",
       "      <td>17.0</td>\n",
       "      <td>1.8</td>\n",
       "      <td>NaN</td>\n",
       "      <td>7.0</td>\n",
       "      <td>0.01550</td>\n",
       "      <td>0.480</td>\n",
       "    </tr>\n",
       "    <tr>\n",
       "      <th>3</th>\n",
       "      <td>Greater short-tailed shrew</td>\n",
       "      <td>Blarina</td>\n",
       "      <td>omni</td>\n",
       "      <td>Soricomorpha</td>\n",
       "      <td>lc</td>\n",
       "      <td>14.9</td>\n",
       "      <td>2.3</td>\n",
       "      <td>0.133333</td>\n",
       "      <td>9.1</td>\n",
       "      <td>0.00029</td>\n",
       "      <td>0.019</td>\n",
       "    </tr>\n",
       "    <tr>\n",
       "      <th>4</th>\n",
       "      <td>Cow</td>\n",
       "      <td>Bos</td>\n",
       "      <td>herbi</td>\n",
       "      <td>Artiodactyla</td>\n",
       "      <td>domesticated</td>\n",
       "      <td>4.0</td>\n",
       "      <td>0.7</td>\n",
       "      <td>0.666667</td>\n",
       "      <td>20.0</td>\n",
       "      <td>0.42300</td>\n",
       "      <td>600.000</td>\n",
       "    </tr>\n",
       "    <tr>\n",
       "      <th>8</th>\n",
       "      <td>Dog</td>\n",
       "      <td>Canis</td>\n",
       "      <td>carni</td>\n",
       "      <td>Carnivora</td>\n",
       "      <td>domesticated</td>\n",
       "      <td>10.1</td>\n",
       "      <td>2.9</td>\n",
       "      <td>0.333333</td>\n",
       "      <td>13.9</td>\n",
       "      <td>0.07000</td>\n",
       "      <td>14.000</td>\n",
       "    </tr>\n",
       "    <tr>\n",
       "      <th>9</th>\n",
       "      <td>Roe deer</td>\n",
       "      <td>Capreolus</td>\n",
       "      <td>herbi</td>\n",
       "      <td>Artiodactyla</td>\n",
       "      <td>lc</td>\n",
       "      <td>3.0</td>\n",
       "      <td>NaN</td>\n",
       "      <td>NaN</td>\n",
       "      <td>21.0</td>\n",
       "      <td>0.09820</td>\n",
       "      <td>14.800</td>\n",
       "    </tr>\n",
       "  </tbody>\n",
       "</table>\n",
       "</div>"
      ],
      "text/plain": [
       "                         name      genus   vore         order  conservation  \\\n",
       "1                  Owl monkey      Aotus   omni      Primates           NaN   \n",
       "3  Greater short-tailed shrew    Blarina   omni  Soricomorpha            lc   \n",
       "4                         Cow        Bos  herbi  Artiodactyla  domesticated   \n",
       "8                         Dog      Canis  carni     Carnivora  domesticated   \n",
       "9                    Roe deer  Capreolus  herbi  Artiodactyla            lc   \n",
       "\n",
       "   sleep_total  sleep_rem  sleep_cycle  awake  brainwt   bodywt  \n",
       "1         17.0        1.8          NaN    7.0  0.01550    0.480  \n",
       "3         14.9        2.3     0.133333    9.1  0.00029    0.019  \n",
       "4          4.0        0.7     0.666667   20.0  0.42300  600.000  \n",
       "8         10.1        2.9     0.333333   13.9  0.07000   14.000  \n",
       "9          3.0        NaN          NaN   21.0  0.09820   14.800  "
      ]
     },
     "execution_count": 4,
     "metadata": {},
     "output_type": "execute_result"
    }
   ],
   "source": [
    "mammals.head()"
   ]
  },
  {
   "cell_type": "markdown",
   "metadata": {},
   "source": [
    "### Lets check out a scatter plot of body wieght and brain weight"
   ]
  },
  {
   "cell_type": "code",
   "execution_count": 15,
   "metadata": {
    "collapsed": false
   },
   "outputs": [
    {
     "data": {
      "image/png": "iVBORw0KGgoAAAANSUhEUgAAAqAAAAHcCAYAAAAJNBjiAAAABHNCSVQICAgIfAhkiAAAAAlwSFlz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\ngAIAkJUABQAgq/8PR7n107Q+PjcAAAAASUVORK5CYII=\n",
      "text/plain": [
       "<matplotlib.figure.Figure at 0xd7b3ac8>"
      ]
     },
     "metadata": {},
     "output_type": "display_data"
    }
   ],
   "source": [
    "# create a matplotlib figure\n",
    "plt.figure()\n",
    "# generate a scatterplot inside the figure\n",
    "plt.plot(mammals.bodywt, mammals.brainwt, '.')\n",
    "# show the plot\n",
    "plt.show()"
   ]
  },
  {
   "cell_type": "code",
   "execution_count": 8,
   "metadata": {
    "collapsed": false
   },
   "outputs": [
    {
     "data": {
      "text/plain": [
       "<seaborn.axisgrid.FacetGrid at 0xd050358>"
      ]
     },
     "execution_count": 8,
     "metadata": {},
     "output_type": "execute_result"
    },
    {
     "data": {
      "image/png": "iVBORw0KGgoAAAANSUhEUgAAAeMAAAHmCAYAAABAuuaLAAAABHNCSVQICAgIfAhkiAAAAAlwSFlz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\nY8YYY8zDOIwZY4wxD+MwZowxxjzsf9JJSu+wwSrVAAAAAElFTkSuQmCC\n",
      "text/plain": [
       "<matplotlib.figure.Figure at 0xd050400>"
      ]
     },
     "metadata": {},
     "output_type": "display_data"
    }
   ],
   "source": [
    "sns.lmplot('bodywt', 'brainwt', mammals)  # This uses Seaborn"
   ]
  },
  {
   "cell_type": "code",
   "execution_count": 12,
   "metadata": {
    "collapsed": false
   },
   "outputs": [],
   "source": [
    "log_columns = ['bodywt', 'brainwt',]\n",
    "log_mammals = mammals.copy()\n",
    "log_mammals[log_columns] = log_mammals[log_columns].apply(np.log10)"
   ]
  },
  {
   "cell_type": "code",
   "execution_count": 40,
   "metadata": {
    "collapsed": false
   },
   "outputs": [
    {
     "data": {
      "text/plain": [
       "<seaborn.axisgrid.FacetGrid at 0x10b64ea90>"
      ]
     },
     "execution_count": 40,
     "metadata": {},
     "output_type": "execute_result"
    },
    {
     "data": {
      "image/png": "iVBORw0KGgoAAAANSUhEUgAAAWEAAAFhCAYAAACh/xvXAAAABHNCSVQICAgIfAhkiAAAAAlwSFlz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\nhRDCQBLCQghhoP8fma3XWMTvVI8AAAAASUVORK5CYII=\n",
      "text/plain": [
       "<matplotlib.figure.Figure at 0x10b2b5150>"
      ]
     },
     "metadata": {},
     "output_type": "display_data"
    }
   ],
   "source": [
    "sns.lmplot('bodywt', 'brainwt', log_mammals)"
   ]
  },
  {
   "cell_type": "markdown",
   "metadata": {},
   "source": [
    "## Guided Practice: Using Seaborn to generate single variable linear model plots (15 mins)\n",
    "Update and complete the code below to use lmplot and display correlations between body weight and two dependent variables: sleep_rem and awake.\n"
   ]
  },
  {
   "cell_type": "code",
   "execution_count": 27,
   "metadata": {
    "collapsed": false
   },
   "outputs": [
    {
     "data": {
      "text/plain": [
       "<seaborn.axisgrid.FacetGrid at 0xdd74048>"
      ]
     },
     "execution_count": 27,
     "metadata": {},
     "output_type": "execute_result"
    },
    {
     "data": {
      "image/png": "iVBORw0KGgoAAAANSUhEUgAAAekAAAHsCAYAAAD2A1UkAAAABHNCSVQICAgIfAhkiAAAAAlwSFlz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\n",
      "text/plain": [
       "<matplotlib.figure.Figure at 0xd94fa90>"
      ]
     },
     "metadata": {},
     "output_type": "display_data"
    }
   ],
   "source": [
    "log_columns = ['bodywt', 'sleep_rem']  # any others?\n",
    "log_mammals = mammals.copy()\n",
    "log_mammals[log_columns] = log_mammals[log_columns].apply(np.log10)\n",
    "sns.lmplot('bodywt', 'sleep_rem', log_mammals)\n"
   ]
  },
  {
   "cell_type": "markdown",
   "metadata": {},
   "source": [
    "##### Complete below for sleep_rem and awake as a y, with variables you've already used as x.\n"
   ]
  },
  {
   "cell_type": "code",
   "execution_count": 28,
   "metadata": {
    "collapsed": false
   },
   "outputs": [
    {
     "ename": "NameError",
     "evalue": "name 'x' is not defined",
     "output_type": "error",
     "traceback": [
      "\u001b[0;31m---------------------------------------------------------------------------\u001b[0m",
      "\u001b[0;31mNameError\u001b[0m                                 Traceback (most recent call last)",
      "\u001b[0;32m<ipython-input-28-adc36487d5c8>\u001b[0m in \u001b[0;36m<module>\u001b[0;34m()\u001b[0m\n\u001b[0;32m----> 1\u001b[0;31m \u001b[0msns\u001b[0m\u001b[1;33m.\u001b[0m\u001b[0mlmplot\u001b[0m\u001b[1;33m(\u001b[0m\u001b[0mx\u001b[0m\u001b[1;33m,\u001b[0m \u001b[0my\u001b[0m\u001b[1;33m,\u001b[0m \u001b[0mmammals\u001b[0m\u001b[1;33m)\u001b[0m\u001b[1;33m\u001b[0m\u001b[0m\n\u001b[0m\u001b[1;32m      2\u001b[0m \u001b[0msns\u001b[0m\u001b[1;33m.\u001b[0m\u001b[0mlmplot\u001b[0m\u001b[1;33m(\u001b[0m\u001b[0mx\u001b[0m\u001b[1;33m,\u001b[0m \u001b[0my\u001b[0m\u001b[1;33m,\u001b[0m \u001b[0mlog_mammals\u001b[0m\u001b[1;33m)\u001b[0m\u001b[1;33m\u001b[0m\u001b[0m\n",
      "\u001b[0;31mNameError\u001b[0m: name 'x' is not defined"
     ]
    }
   ],
   "source": [
    "sns.lmplot(x, y, mammals)\n",
    "sns.lmplot(x, y, log_mammals)"
   ]
  },
  {
   "cell_type": "markdown",
   "metadata": {},
   "source": [
    "## Introduction: Single Regression Analysis in statsmodels & scikit (10 mins)"
   ]
  },
  {
   "cell_type": "code",
   "execution_count": 16,
   "metadata": {
    "collapsed": false
   },
   "outputs": [
    {
     "data": {
      "text/html": [
       "<table class=\"simpletable\">\n",
       "<caption>OLS Regression Results</caption>\n",
       "<tr>\n",
       "  <th>Dep. Variable:</th>            <td>y</td>        <th>  R-squared:         </th> <td>   0.872</td>\n",
       "</tr>\n",
       "<tr>\n",
       "  <th>Model:</th>                   <td>OLS</td>       <th>  Adj. R-squared:    </th> <td>   0.870</td>\n",
       "</tr>\n",
       "<tr>\n",
       "  <th>Method:</th>             <td>Least Squares</td>  <th>  F-statistic:       </th> <td>   367.7</td>\n",
       "</tr>\n",
       "<tr>\n",
       "  <th>Date:</th>             <td>Mon, 21 Nov 2016</td> <th>  Prob (F-statistic):</th> <td>9.16e-26</td>\n",
       "</tr>\n",
       "<tr>\n",
       "  <th>Time:</th>                 <td>20:37:11</td>     <th>  Log-Likelihood:    </th> <td> -20.070</td>\n",
       "</tr>\n",
       "<tr>\n",
       "  <th>No. Observations:</th>      <td>    56</td>      <th>  AIC:               </th> <td>   44.14</td>\n",
       "</tr>\n",
       "<tr>\n",
       "  <th>Df Residuals:</th>          <td>    54</td>      <th>  BIC:               </th> <td>   48.19</td>\n",
       "</tr>\n",
       "<tr>\n",
       "  <th>Df Model:</th>              <td>     1</td>      <th>                     </th>     <td> </td>   \n",
       "</tr>\n",
       "<tr>\n",
       "  <th>Covariance Type:</th>      <td>nonrobust</td>    <th>                     </th>     <td> </td>   \n",
       "</tr>\n",
       "</table>\n",
       "<table class=\"simpletable\">\n",
       "<tr>\n",
       "      <td></td>         <th>coef</th>     <th>std err</th>      <th>t</th>      <th>P>|t|</th> <th>[95.0% Conf. Int.]</th> \n",
       "</tr>\n",
       "<tr>\n",
       "  <th>Intercept</th> <td>    0.0859</td> <td>    0.048</td> <td>    1.782</td> <td> 0.080</td> <td>   -0.011     0.183</td>\n",
       "</tr>\n",
       "<tr>\n",
       "  <th>X</th>         <td>    0.0010</td> <td> 5.03e-05</td> <td>   19.176</td> <td> 0.000</td> <td>    0.001     0.001</td>\n",
       "</tr>\n",
       "</table>\n",
       "<table class=\"simpletable\">\n",
       "<tr>\n",
       "  <th>Omnibus:</th>       <td>85.068</td> <th>  Durbin-Watson:     </th> <td>   2.376</td> \n",
       "</tr>\n",
       "<tr>\n",
       "  <th>Prob(Omnibus):</th> <td> 0.000</td> <th>  Jarque-Bera (JB):  </th> <td>1330.630</td> \n",
       "</tr>\n",
       "<tr>\n",
       "  <th>Skew:</th>          <td> 4.258</td> <th>  Prob(JB):          </th> <td>1.14e-289</td>\n",
       "</tr>\n",
       "<tr>\n",
       "  <th>Kurtosis:</th>      <td>25.311</td> <th>  Cond. No.          </th> <td>    981.</td> \n",
       "</tr>\n",
       "</table>"
      ],
      "text/plain": [
       "<class 'statsmodels.iolib.summary.Summary'>\n",
       "\"\"\"\n",
       "                            OLS Regression Results                            \n",
       "==============================================================================\n",
       "Dep. Variable:                      y   R-squared:                       0.872\n",
       "Model:                            OLS   Adj. R-squared:                  0.870\n",
       "Method:                 Least Squares   F-statistic:                     367.7\n",
       "Date:                Mon, 21 Nov 2016   Prob (F-statistic):           9.16e-26\n",
       "Time:                        20:37:11   Log-Likelihood:                -20.070\n",
       "No. Observations:                  56   AIC:                             44.14\n",
       "Df Residuals:                      54   BIC:                             48.19\n",
       "Df Model:                           1                                         \n",
       "Covariance Type:            nonrobust                                         \n",
       "==============================================================================\n",
       "                 coef    std err          t      P>|t|      [95.0% Conf. Int.]\n",
       "------------------------------------------------------------------------------\n",
       "Intercept      0.0859      0.048      1.782      0.080        -0.011     0.183\n",
       "X              0.0010   5.03e-05     19.176      0.000         0.001     0.001\n",
       "==============================================================================\n",
       "Omnibus:                       85.068   Durbin-Watson:                   2.376\n",
       "Prob(Omnibus):                  0.000   Jarque-Bera (JB):             1330.630\n",
       "Skew:                           4.258   Prob(JB):                    1.14e-289\n",
       "Kurtosis:                      25.311   Cond. No.                         981.\n",
       "==============================================================================\n",
       "\n",
       "Warnings:\n",
       "[1] Standard Errors assume that the covariance matrix of the errors is correctly specified.\n",
       "\"\"\""
      ]
     },
     "execution_count": 16,
     "metadata": {},
     "output_type": "execute_result"
    }
   ],
   "source": [
    "# this is the standard import if you're using \"formula notation\" (similar to R)\n",
    "import statsmodels.formula.api as smf\n",
    "\n",
    "X = mammals[['bodywt']]\n",
    "y = mammals['brainwt']\n",
    "\n",
    "# create a fitted model in one line\n",
    "#formula notiation is the equivalent to writting out our models such that 'outcome = predictor'\n",
    "#with the follwing syntax formula = 'outcome ~ predictor1 + predictor2 ... predictorN'\n",
    "lm = smf.ols(formula='y ~ X', data=mammals).fit()\n",
    "#print the full summary\n",
    "lm.summary()\n",
    "\n"
   ]
  },
  {
   "cell_type": "markdown",
   "metadata": {},
   "source": [
    "#### Use Statsmodels to make the prediction"
   ]
  },
  {
   "cell_type": "code",
   "execution_count": 43,
   "metadata": {
    "collapsed": false
   },
   "outputs": [
    {
     "data": {
      "text/html": [
       "<div>\n",
       "<table border=\"1\" class=\"dataframe\">\n",
       "  <thead>\n",
       "    <tr style=\"text-align: right;\">\n",
       "      <th></th>\n",
       "      <th>X</th>\n",
       "    </tr>\n",
       "  </thead>\n",
       "  <tbody>\n",
       "    <tr>\n",
       "      <th>0</th>\n",
       "      <td>50</td>\n",
       "    </tr>\n",
       "  </tbody>\n",
       "</table>\n",
       "</div>"
      ],
      "text/plain": [
       "    X\n",
       "0  50"
      ]
     },
     "execution_count": 43,
     "metadata": {},
     "output_type": "execute_result"
    }
   ],
   "source": [
    "# you have to create a DataFrame since the Statsmodels formula interface expects it\n",
    "X_new = pd.DataFrame({'X': [50]})\n",
    "X_new.head()"
   ]
  },
  {
   "cell_type": "code",
   "execution_count": 44,
   "metadata": {
    "collapsed": false
   },
   "outputs": [
    {
     "data": {
      "text/plain": [
       "array([ 0.13411477])"
      ]
     },
     "execution_count": 44,
     "metadata": {},
     "output_type": "execute_result"
    }
   ],
   "source": [
    "lm.predict(X_new)"
   ]
  },
  {
   "cell_type": "markdown",
   "metadata": {},
   "source": [
    "### Repeat in Scikit with handy plotting"
   ]
  },
  {
   "cell_type": "markdown",
   "metadata": {},
   "source": [
    "When modeling with sklearn, you'll use the following base principals:\n",
    "\n",
    "- All sklearn estimators (modeling classes) are based on this base estimator. This allows you to easily rotate through estimators without changing much code.\n",
    "- All estimators take a matrix, X, either sparse or dense.\n",
    "- Many estimators also take a vector, y, when working on a supervised machine learning problem. Regressions are supervised learning because we already have examples of y given X.\n",
    "- All estimators have parameters that can be set. This allows for customization and higher level of detail to the learning process. The parameters are appropriate to each estimator algorithm."
   ]
  },
  {
   "cell_type": "code",
   "execution_count": 23,
   "metadata": {
    "collapsed": false
   },
   "outputs": [
    {
     "name": "stdout",
     "output_type": "stream",
     "text": [
      "P Values: [  9.15540205e-26]\n",
      "Coefficients: [ 0.00096395]\n",
      "y-intercept: 0.0859173102936\n",
      "R-Squared: 0.871949198087\n"
     ]
    },
    {
     "name": "stderr",
     "output_type": "stream",
     "text": [
      "C:\\Program Files\\Anaconda3\\lib\\site-packages\\numpy\\lib\\function_base.py:564: VisibleDeprecationWarning: using a non-integer number instead of an integer will result in an error in the future\n",
      "  n = np.zeros(bins, ntype)\n",
      "C:\\Program Files\\Anaconda3\\lib\\site-packages\\numpy\\lib\\function_base.py:611: VisibleDeprecationWarning: using a non-integer number instead of an integer will result in an error in the future\n",
      "  n += np.bincount(indices, weights=tmp_w, minlength=bins).astype(ntype)\n"
     ]
    },
    {
     "data": {
      "image/png": "iVBORw0KGgoAAAANSUhEUgAAAgcAAAFoCAYAAADD61gpAAAABHNCSVQICAgIfAhkiAAAAAlwSFlz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\nLJQDAABgoRwAAADL/wIb7t/3w4lPaAAAAABJRU5ErkJggg==\n",
      "text/plain": [
       "<matplotlib.figure.Figure at 0xdd38128>"
      ]
     },
     "metadata": {},
     "output_type": "display_data"
    }
   ],
   "source": [
    "from sklearn import feature_selection, linear_model\n",
    "\n",
    "def get_linear_model_metrics(X, y, algo):\n",
    "    # get the pvalue of X given y. Ignore f-stat for now.\n",
    "    pvals = feature_selection.f_regression(X, y)[1]\n",
    "    # start with an empty linear regression object\n",
    "    # .fit() runs the linear regression function on X and y\n",
    "    algo.fit(X,y)\n",
    "    residuals = (y-algo.predict(X)).values\n",
    "\n",
    "    # print the necessary values\n",
    "    print ('P Values:', pvals)\n",
    "    print ('Coefficients:', algo.coef_)\n",
    "    print ('y-intercept:', algo.intercept_)\n",
    "    print ('R-Squared:', algo.score(X,y))\n",
    "    plt.figure()\n",
    "    plt.hist(residuals, bins=np.ceil(np.sqrt(len(y))))\n",
    "    # keep the model\n",
    "    return algo\n",
    "\n",
    "X = mammals[['bodywt']]\n",
    "y = mammals['brainwt']\n",
    "lm = linear_model.LinearRegression()\n",
    "lm = get_linear_model_metrics(X, y, lm)"
   ]
  },
  {
   "cell_type": "markdown",
   "metadata": {},
   "source": [
    "## Demo: Significance is Key (20 mins)"
   ]
  },
  {
   "cell_type": "markdown",
   "metadata": {},
   "source": [
    "### What does our output tell us?"
   ]
  },
  {
   "cell_type": "markdown",
   "metadata": {},
   "source": [
    "Our output tells us that:\n",
    "\n",
    "* The relationship between bodywt and brainwt isn't random (p value approaching 0)  \n",
    "* The model explains, roughly, 87% of the variance of the dataset (the largest errors being in the large brain and body sizes)  \n",
    "* With this current model, brainwt is roughly bodywt * 0.00096395  \n",
    "* The residuals, or error in the prediction, is not normal, with outliers on the right. A better with will have similar to normally distributed error."
   ]
  },
  {
   "cell_type": "markdown",
   "metadata": {},
   "source": [
    "### Evaluating Fit, Evaluating Sense"
   ]
  },
  {
   "cell_type": "markdown",
   "metadata": {},
   "source": [
    "Although we know there is a better solution to the model, we should evaluate some other sense things first. For example, given this model, what is an animal's brainwt if their bodywt is 0?"
   ]
  },
  {
   "cell_type": "code",
   "execution_count": 24,
   "metadata": {
    "collapsed": false
   },
   "outputs": [
    {
     "name": "stdout",
     "output_type": "stream",
     "text": [
      "[ 0.08591731]\n"
     ]
    }
   ],
   "source": [
    "# prediction at 0?\n",
    "print (lm.predict([[0]]))"
   ]
  },
  {
   "cell_type": "code",
   "execution_count": 25,
   "metadata": {
    "collapsed": false
   },
   "outputs": [
    {
     "name": "stdout",
     "output_type": "stream",
     "text": [
      "P Values: [  9.15540205e-26]\n",
      "Coefficients: [ 0.00098291]\n",
      "y-intercept: 0.0\n",
      "R-Squared: 0.864418807451\n",
      "[ 0.]\n"
     ]
    },
    {
     "name": "stderr",
     "output_type": "stream",
     "text": [
      "C:\\Program Files\\Anaconda3\\lib\\site-packages\\numpy\\lib\\function_base.py:564: VisibleDeprecationWarning: using a non-integer number instead of an integer will result in an error in the future\n",
      "  n = np.zeros(bins, ntype)\n",
      "C:\\Program Files\\Anaconda3\\lib\\site-packages\\numpy\\lib\\function_base.py:611: VisibleDeprecationWarning: using a non-integer number instead of an integer will result in an error in the future\n",
      "  n += np.bincount(indices, weights=tmp_w, minlength=bins).astype(ntype)\n"
     ]
    },
    {
     "data": {
      "image/png": "iVBORw0KGgoAAAANSUhEUgAAAgcAAAFoCAYAAADD61gpAAAABHNCSVQICAgIfAhkiAAAAAlwSFlz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\n",
      "text/plain": [
       "<matplotlib.figure.Figure at 0xdb13b70>"
      ]
     },
     "metadata": {},
     "output_type": "display_data"
    }
   ],
   "source": [
    "lm = linear_model.LinearRegression(fit_intercept=False)\n",
    "lm = get_linear_model_metrics(X, y, lm)\n",
    "# prediction at 0?\n",
    "print (lm.predict([[0]]))"
   ]
  },
  {
   "cell_type": "markdown",
   "metadata": {},
   "source": [
    "## Intrepretation?\n"
   ]
  },
  {
   "cell_type": "markdown",
   "metadata": {},
   "source": [
    "Answer:"
   ]
  },
  {
   "cell_type": "markdown",
   "metadata": {},
   "source": [
    "## Guided Practice: Using the LinearRegression object (15 mins)\n",
    "\n",
    "We learned earlier that the data in its current state does not allow for the best linear regression fit. \n",
    "\n",
    "With a partner, generate two more models using the log-transformed data to see how this transform changes the model's performance. \n",
    "\n",
    "Complete the following code to update X and y to match the log-transformed data. \n",
    "\n",
    "Complete the loop by setting the list to be one True and one False."
   ]
  },
  {
   "cell_type": "code",
   "execution_count": 26,
   "metadata": {
    "collapsed": false
   },
   "outputs": [
    {
     "name": "stdout",
     "output_type": "stream",
     "text": [
      "y-intercept: True\n",
      "P Values: [  3.56282243e-33]\n",
      "Coefficients: [ 0.76516177]\n",
      "y-intercept: -2.07393164084\n",
      "R-Squared: 0.931851615367\n",
      "\n",
      "y-intercept: False\n",
      "P Values: [  3.56282243e-33]\n",
      "Coefficients: [ 0.35561441]\n",
      "y-intercept: 0.0\n",
      "R-Squared: -2.41053211437\n"
     ]
    },
    {
     "name": "stderr",
     "output_type": "stream",
     "text": [
      "C:\\Program Files\\Anaconda3\\lib\\site-packages\\numpy\\lib\\function_base.py:564: VisibleDeprecationWarning: using a non-integer number instead of an integer will result in an error in the future\n",
      "  n = np.zeros(bins, ntype)\n",
      "C:\\Program Files\\Anaconda3\\lib\\site-packages\\numpy\\lib\\function_base.py:611: VisibleDeprecationWarning: using a non-integer number instead of an integer will result in an error in the future\n",
      "  n += np.bincount(indices, weights=tmp_w, minlength=bins).astype(ntype)\n"
     ]
    },
    {
     "name": "stdout",
     "output_type": "stream",
     "text": [
      "\n"
     ]
    },
    {
     "data": {
      "image/png": "iVBORw0KGgoAAAANSUhEUgAAAgcAAAFoCAYAAADD61gpAAAABHNCSVQICAgIfAhkiAAAAAlwSFlz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\nBwAAwEA4AAAABsIBAAAw/D/L3sH4VF3QMAAAAABJRU5ErkJggg==\n",
      "text/plain": [
       "<matplotlib.figure.Figure at 0xded6cc0>"
      ]
     },
     "metadata": {},
     "output_type": "display_data"
    },
    {
     "data": {
      "image/png": "iVBORw0KGgoAAAANSUhEUgAAAgsAAAFoCAYAAADZ17inAAAABHNCSVQICAgIfAhkiAAAAAlwSFlz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\n",
      "text/plain": [
       "<matplotlib.figure.Figure at 0xded6a90>"
      ]
     },
     "metadata": {},
     "output_type": "display_data"
    }
   ],
   "source": [
    "#starter\n",
    "X = mammals[['bodywt']].apply(np.log10)\n",
    "y = mammals['brainwt'].apply(np.log10)\n",
    "loop = [True, False]\n",
    "for boolean in loop:\n",
    "    print ('y-intercept:', boolean)\n",
    "    lm = sklearn.linear_model.LinearRegression(fit_intercept=boolean)\n",
    "    get_linear_model_metrics(X, y, lm)\n",
    "    print ()"
   ]
  },
  {
   "cell_type": "markdown",
   "metadata": {},
   "source": [
    "### Which model performed the best? The worst? Why?\n"
   ]
  },
  {
   "cell_type": "markdown",
   "metadata": {},
   "source": [
    "Answer: "
   ]
  },
  {
   "cell_type": "markdown",
   "metadata": {},
   "source": [
    "### Advanced Methods! \n",
    "\n",
    "We will go over different estimators in detail in the future but check it out in the docs if you're curious (and finish a little early)"
   ]
  },
  {
   "cell_type": "code",
   "execution_count": 49,
   "metadata": {
    "collapsed": false
   },
   "outputs": [
    {
     "name": "stdout",
     "output_type": "stream",
     "text": [
      "Lasso(alpha=1.0, copy_X=True, fit_intercept=True, max_iter=1000,\n",
      "   normalize=False, positive=False, precompute=False, random_state=None,\n",
      "   selection='cyclic', tol=0.0001, warm_start=False)\n",
      "P Values: [  3.56282243e-33]\n",
      "Coefficients: [ 0.23454772]\n",
      "y-intercept: -1.85931606304\n",
      "R-Squared: 0.483728109403\n",
      "\n",
      "Ridge(alpha=1.0, copy_X=True, fit_intercept=True, max_iter=None,\n",
      "   normalize=False, solver='auto', tol=0.001)\n",
      "P Values: [  3.56282243e-33]\n",
      "Coefficients: [ 0.75797972]\n",
      "y-intercept: -2.07102674342\n",
      "R-Squared: 0.931769516561\n",
      "\n",
      "ElasticNet(alpha=1.0, copy_X=True, fit_intercept=True, l1_ratio=0.5,\n",
      "      max_iter=1000, normalize=False, positive=False, precompute=False,\n",
      "      random_state=None, selection='cyclic', tol=0.0001, warm_start=False)\n",
      "P Values: [  3.56282243e-33]\n",
      "Coefficients: [ 0.39504621]\n",
      "y-intercept: -1.9242323166\n",
      "R-Squared: 0.71382228495\n",
      "\n"
     ]
    },
    {
     "data": {
      "image/png": "iVBORw0KGgoAAAANSUhEUgAAAXQAAAECCAYAAADuGCyPAAAABHNCSVQICAgIfAhkiAAAAAlwSFlz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\nIf4PZCr4l3wYYBsAAAAASUVORK5CYII=\n",
      "text/plain": [
       "<matplotlib.figure.Figure at 0x10be991d0>"
      ]
     },
     "metadata": {},
     "output_type": "display_data"
    },
    {
     "data": {
      "image/png": "iVBORw0KGgoAAAANSUhEUgAAAXMAAAECCAYAAAAMxDf2AAAABHNCSVQICAgIfAhkiAAAAAlwSFlz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\n",
      "text/plain": [
       "<matplotlib.figure.Figure at 0x10d2e1050>"
      ]
     },
     "metadata": {},
     "output_type": "display_data"
    },
    {
     "data": {
      "image/png": "iVBORw0KGgoAAAANSUhEUgAAAXMAAAECCAYAAAAMxDf2AAAABHNCSVQICAgIfAhkiAAAAAlwSFlz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\nGqy7yFLCAAAAAElFTkSuQmCC\n",
      "text/plain": [
       "<matplotlib.figure.Figure at 0x10d338950>"
      ]
     },
     "metadata": {},
     "output_type": "display_data"
    }
   ],
   "source": [
    "# loading other sklearn regression estimators\n",
    "X = log_mammals[['bodywt']]\n",
    "y = log_mammals['brainwt']\n",
    "\n",
    "estimators = [\n",
    "    linear_model.Lasso(),\n",
    "    linear_model.Ridge(),\n",
    "    linear_model.ElasticNet(),\n",
    "]\n",
    "\n",
    "for est in estimators:\n",
    "    print est\n",
    "    get_linear_model_metrics(X, y, est)\n",
    "    print\n"
   ]
  },
  {
   "cell_type": "markdown",
   "metadata": {},
   "source": [
    "## Introduction: Multiple Regression Analysis using citi bike data (10 minutes)\n"
   ]
  },
  {
   "cell_type": "markdown",
   "metadata": {},
   "source": [
    "In the previous example, one variable explained the variance of another; however, more often than not, we will need multiple variables. \n",
    "\n",
    "For example, a house's price may be best measured by square feet, but a lot of other variables play a vital role: bedrooms, bathrooms, location, appliances, etc. \n",
    "\n",
    "For a linear regression, we want these variables to be largely independent of each other, but all of them should help explain the Y variable.\n",
    "\n",
    "We'll work with bikeshare data to showcase what this means and to explain a concept called multicollinearity."
   ]
  },
  {
   "cell_type": "code",
   "execution_count": 76,
   "metadata": {
    "collapsed": false
   },
   "outputs": [
    {
     "data": {
      "text/html": [
       "<div>\n",
       "<table border=\"1\" class=\"dataframe\">\n",
       "  <thead>\n",
       "    <tr style=\"text-align: right;\">\n",
       "      <th></th>\n",
       "      <th>instant</th>\n",
       "      <th>dteday</th>\n",
       "      <th>season</th>\n",
       "      <th>yr</th>\n",
       "      <th>mnth</th>\n",
       "      <th>hr</th>\n",
       "      <th>holiday</th>\n",
       "      <th>weekday</th>\n",
       "      <th>workingday</th>\n",
       "      <th>weathersit</th>\n",
       "      <th>temp</th>\n",
       "      <th>atemp</th>\n",
       "      <th>hum</th>\n",
       "      <th>windspeed</th>\n",
       "      <th>casual</th>\n",
       "      <th>registered</th>\n",
       "      <th>cnt</th>\n",
       "    </tr>\n",
       "  </thead>\n",
       "  <tbody>\n",
       "    <tr>\n",
       "      <th>0</th>\n",
       "      <td>1</td>\n",
       "      <td>2011-01-01</td>\n",
       "      <td>1</td>\n",
       "      <td>0</td>\n",
       "      <td>1</td>\n",
       "      <td>0</td>\n",
       "      <td>0</td>\n",
       "      <td>6</td>\n",
       "      <td>0</td>\n",
       "      <td>1</td>\n",
       "      <td>0.24</td>\n",
       "      <td>0.2879</td>\n",
       "      <td>0.81</td>\n",
       "      <td>0</td>\n",
       "      <td>3</td>\n",
       "      <td>13</td>\n",
       "      <td>16</td>\n",
       "    </tr>\n",
       "    <tr>\n",
       "      <th>1</th>\n",
       "      <td>2</td>\n",
       "      <td>2011-01-01</td>\n",
       "      <td>1</td>\n",
       "      <td>0</td>\n",
       "      <td>1</td>\n",
       "      <td>1</td>\n",
       "      <td>0</td>\n",
       "      <td>6</td>\n",
       "      <td>0</td>\n",
       "      <td>1</td>\n",
       "      <td>0.22</td>\n",
       "      <td>0.2727</td>\n",
       "      <td>0.80</td>\n",
       "      <td>0</td>\n",
       "      <td>8</td>\n",
       "      <td>32</td>\n",
       "      <td>40</td>\n",
       "    </tr>\n",
       "    <tr>\n",
       "      <th>2</th>\n",
       "      <td>3</td>\n",
       "      <td>2011-01-01</td>\n",
       "      <td>1</td>\n",
       "      <td>0</td>\n",
       "      <td>1</td>\n",
       "      <td>2</td>\n",
       "      <td>0</td>\n",
       "      <td>6</td>\n",
       "      <td>0</td>\n",
       "      <td>1</td>\n",
       "      <td>0.22</td>\n",
       "      <td>0.2727</td>\n",
       "      <td>0.80</td>\n",
       "      <td>0</td>\n",
       "      <td>5</td>\n",
       "      <td>27</td>\n",
       "      <td>32</td>\n",
       "    </tr>\n",
       "    <tr>\n",
       "      <th>3</th>\n",
       "      <td>4</td>\n",
       "      <td>2011-01-01</td>\n",
       "      <td>1</td>\n",
       "      <td>0</td>\n",
       "      <td>1</td>\n",
       "      <td>3</td>\n",
       "      <td>0</td>\n",
       "      <td>6</td>\n",
       "      <td>0</td>\n",
       "      <td>1</td>\n",
       "      <td>0.24</td>\n",
       "      <td>0.2879</td>\n",
       "      <td>0.75</td>\n",
       "      <td>0</td>\n",
       "      <td>3</td>\n",
       "      <td>10</td>\n",
       "      <td>13</td>\n",
       "    </tr>\n",
       "    <tr>\n",
       "      <th>4</th>\n",
       "      <td>5</td>\n",
       "      <td>2011-01-01</td>\n",
       "      <td>1</td>\n",
       "      <td>0</td>\n",
       "      <td>1</td>\n",
       "      <td>4</td>\n",
       "      <td>0</td>\n",
       "      <td>6</td>\n",
       "      <td>0</td>\n",
       "      <td>1</td>\n",
       "      <td>0.24</td>\n",
       "      <td>0.2879</td>\n",
       "      <td>0.75</td>\n",
       "      <td>0</td>\n",
       "      <td>0</td>\n",
       "      <td>1</td>\n",
       "      <td>1</td>\n",
       "    </tr>\n",
       "  </tbody>\n",
       "</table>\n",
       "</div>"
      ],
      "text/plain": [
       "   instant      dteday  season  yr  mnth  hr  holiday  weekday  workingday  \\\n",
       "0        1  2011-01-01       1   0     1   0        0        6           0   \n",
       "1        2  2011-01-01       1   0     1   1        0        6           0   \n",
       "2        3  2011-01-01       1   0     1   2        0        6           0   \n",
       "3        4  2011-01-01       1   0     1   3        0        6           0   \n",
       "4        5  2011-01-01       1   0     1   4        0        6           0   \n",
       "\n",
       "   weathersit  temp   atemp   hum  windspeed  casual  registered  cnt  \n",
       "0           1  0.24  0.2879  0.81          0       3          13   16  \n",
       "1           1  0.22  0.2727  0.80          0       8          32   40  \n",
       "2           1  0.22  0.2727  0.80          0       5          27   32  \n",
       "3           1  0.24  0.2879  0.75          0       3          10   13  \n",
       "4           1  0.24  0.2879  0.75          0       0           1    1  "
      ]
     },
     "execution_count": 76,
     "metadata": {},
     "output_type": "execute_result"
    }
   ],
   "source": [
    "wd = '../../assets/dataset/bikeshare/'\n",
    "bike_data = pd.read_csv(wd+'bikeshare.csv')\n",
    "bike_data.head()"
   ]
  },
  {
   "cell_type": "markdown",
   "metadata": {},
   "source": [
    "### What is Multicollinearity?\n",
    "\n",
    "With the bike share data, let's compare three data points: actual temperature, \"feel\" temperature, and guest ridership. \n",
    "\n",
    "Our data is already normalized between 0 and 1, so we'll start off with the correlations and modeling."
   ]
  },
  {
   "cell_type": "code",
   "execution_count": 79,
   "metadata": {
    "collapsed": false
   },
   "outputs": [
    {
     "name": "stdout",
     "output_type": "stream",
     "text": [
      "            temp     atemp    casual\n",
      "temp    1.000000  0.987672  0.459616\n",
      "atemp   0.987672  1.000000  0.454080\n",
      "casual  0.459616  0.454080  1.000000\n",
      "Axes(0.125,0.125;0.62x0.775)\n"
     ]
    },
    {
     "data": {
      "image/png": "iVBORw0KGgoAAAANSUhEUgAAAVoAAAECCAYAAAC/jB/sAAAABHNCSVQICAgIfAhkiAAAAAlwSFlz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\nI2gBwGYELQDYjKAFAJsRtABgs/8PuO/8N6G/aeAAAAAASUVORK5CYII=\n",
      "text/plain": [
       "<matplotlib.figure.Figure at 0x10d19ba50>"
      ]
     },
     "metadata": {},
     "output_type": "display_data"
    }
   ],
   "source": [
    "cmap = sns.diverging_palette(220, 10, as_cmap=True)\n",
    "\n",
    "correlations = bike_data[['temp', 'atemp', 'casual']].corr()\n",
    "print correlations\n",
    "print sns.heatmap(correlations, cmap=cmap)"
   ]
  },
  {
   "cell_type": "markdown",
   "metadata": {},
   "source": [
    "### What does the correlation matrix explain?"
   ]
  },
  {
   "cell_type": "markdown",
   "metadata": {},
   "source": [
    "Answer: "
   ]
  },
  {
   "cell_type": "markdown",
   "metadata": {},
   "source": [
    "## We can measure this effect in the coefficients:\n",
    "\n"
   ]
  },
  {
   "cell_type": "code",
   "execution_count": 80,
   "metadata": {
    "collapsed": false
   },
   "outputs": [
    {
     "name": "stdout",
     "output_type": "stream",
     "text": [
      "temp\n",
      "P Values: [ 0.]\n",
      "Coefficients: [ 117.68705779]\n",
      "y-intercept: -22.812739188\n",
      "R-Squared: 0.21124654163\n",
      "\n",
      "atemp\n",
      "P Values: [ 0.]\n",
      "Coefficients: [ 130.27875081]\n",
      "y-intercept: -26.3071675481\n",
      "R-Squared: 0.206188705733\n",
      "\n",
      "temp, atemp\n",
      "P Values: [ 0.  0.]\n",
      "Coefficients: [ 116.34021588    1.52795677]\n",
      "y-intercept: -22.8703398286\n",
      "R-Squared: 0.21124723661\n",
      "\n"
     ]
    },
    {
     "data": {
      "image/png": "iVBORw0KGgoAAAANSUhEUgAAAYAAAAECCAYAAAD3vwBsAAAABHNCSVQICAgIfAhkiAAAAAlwSFlz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\n/wfNl0g3Ge9pZAAAAABJRU5ErkJggg==\n",
      "text/plain": [
       "<matplotlib.figure.Figure at 0x10d19b7d0>"
      ]
     },
     "metadata": {},
     "output_type": "display_data"
    },
    {
     "data": {
      "image/png": "iVBORw0KGgoAAAANSUhEUgAAAYAAAAECCAYAAAD3vwBsAAAABHNCSVQICAgIfAhkiAAAAAlwSFlz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\nfUIAAAAASUVORK5CYII=\n",
      "text/plain": [
       "<matplotlib.figure.Figure at 0x10bcee610>"
      ]
     },
     "metadata": {},
     "output_type": "display_data"
    },
    {
     "data": {
      "image/png": "iVBORw0KGgoAAAANSUhEUgAAAYAAAAECCAYAAAD3vwBsAAAABHNCSVQICAgIfAhkiAAAAAlwSFlz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\nAUBEJCgGABGRoP4/E90zwgdLCNkAAAAASUVORK5CYII=\n",
      "text/plain": [
       "<matplotlib.figure.Figure at 0x10c915450>"
      ]
     },
     "metadata": {},
     "output_type": "display_data"
    }
   ],
   "source": [
    "y = bike_data['casual']\n",
    "x_sets = (\n",
    "    ['temp'],\n",
    "    ['atemp'],\n",
    "    ['temp', 'atemp'],\n",
    ")\n",
    "\n",
    "for x in x_sets:\n",
    "    print ', '.join(x)\n",
    "    get_linear_model_metrics(bike_data[x], y, linear_model.LinearRegression())\n",
    "    print"
   ]
  },
  {
   "cell_type": "markdown",
   "metadata": {},
   "source": [
    "###  Intrepretation?"
   ]
  },
  {
   "cell_type": "markdown",
   "metadata": {},
   "source": [
    "Answer: "
   ]
  },
  {
   "cell_type": "markdown",
   "metadata": {},
   "source": [
    "### What happens if we use a second variable that isn't highly correlated with temperature, like humidity?\n"
   ]
  },
  {
   "cell_type": "code",
   "execution_count": 99,
   "metadata": {
    "collapsed": false
   },
   "outputs": [
    {
     "name": "stdout",
     "output_type": "stream",
     "text": [
      "P Values: [ 0.  0.]\n",
      "Coefficients: [ 112.02457031  -80.87301833]\n",
      "y-intercept: 30.7273338581\n",
      "R-Squared: 0.310901196913\n"
     ]
    },
    {
     "data": {
      "text/plain": [
       "LinearRegression(copy_X=True, fit_intercept=True, n_jobs=1, normalize=False)"
      ]
     },
     "execution_count": 99,
     "metadata": {},
     "output_type": "execute_result"
    },
    {
     "data": {
      "image/png": "iVBORw0KGgoAAAANSUhEUgAAAYAAAAECCAYAAAD3vwBsAAAABHNCSVQICAgIfAhkiAAAAAlwSFlz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\nAAAAAElFTkSuQmCC\n",
      "text/plain": [
       "<matplotlib.figure.Figure at 0x10df735d0>"
      ]
     },
     "metadata": {},
     "output_type": "display_data"
    }
   ],
   "source": [
    "y = bike_data['casual']\n",
    "x = bike_data[['temp', 'hum']]\n",
    "get_linear_model_metrics(x, y, linear_model.LinearRegression())\n"
   ]
  },
  {
   "cell_type": "markdown",
   "metadata": {},
   "source": [
    "## Guided Practice: Multicollinearity with dummy variables (15 mins)\n",
    "\n"
   ]
  },
  {
   "cell_type": "markdown",
   "metadata": {},
   "source": [
    "There can be a similar effect from a feature set that is a singular matrix, which is when there is a clear relationship in the matrix (for example, the sum of all rows = 1).\n",
    "\n",
    "### Run through the following code on your own.\n",
    "#### What happens to the coefficients when you include all weather situations instead of just including all except one?"
   ]
  },
  {
   "cell_type": "code",
   "execution_count": 100,
   "metadata": {
    "collapsed": false
   },
   "outputs": [
    {
     "name": "stdout",
     "output_type": "stream",
     "text": [
      "P Values: [  3.75616929e-73   3.43170021e-22   1.57718666e-55   2.46181288e-01]\n",
      "Coefficients: [  4.05930101e+12   4.05930101e+12   4.05930101e+12   4.05930101e+12]\n",
      "y-intercept: -4.05930100616e+12\n",
      "R-Squared: 0.0233497737473\n",
      "\n",
      "P Values: [  3.75616929e-73   3.43170021e-22   1.57718666e-55]\n",
      "Coefficients: [ 37.87876398  26.92862383  13.38900634]\n",
      "y-intercept: 2.66666666652\n",
      "R-Squared: 0.0233906873841\n"
     ]
    },
    {
     "data": {
      "text/plain": [
       "LinearRegression(copy_X=True, fit_intercept=True, n_jobs=1, normalize=False)"
      ]
     },
     "execution_count": 100,
     "metadata": {},
     "output_type": "execute_result"
    },
    {
     "data": {
      "image/png": "iVBORw0KGgoAAAANSUhEUgAAAYEAAAECCAYAAAAYfWtSAAAABHNCSVQICAgIfAhkiAAAAAlwSFlz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\nAIDBCAEAMBghAAAGIwQAwGCEAAAY7P8DNsWpue29OC8AAAAASUVORK5CYII=\n",
      "text/plain": [
       "<matplotlib.figure.Figure at 0x10e86cc50>"
      ]
     },
     "metadata": {},
     "output_type": "display_data"
    },
    {
     "data": {
      "image/png": "iVBORw0KGgoAAAANSUhEUgAAAYEAAAECCAYAAAAYfWtSAAAABHNCSVQICAgIfAhkiAAAAAlwSFlz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\n",
      "text/plain": [
       "<matplotlib.figure.Figure at 0x10d829190>"
      ]
     },
     "metadata": {},
     "output_type": "display_data"
    }
   ],
   "source": [
    "lm = linear_model.LinearRegression()\n",
    "weather = pd.get_dummies(bike_data.weathersit)\n",
    "\n",
    "get_linear_model_metrics(weather[[1, 2, 3, 4]], y, lm)\n",
    "print\n",
    "# drop the least significant, weather situation  = 4\n",
    "get_linear_model_metrics(weather[[1, 2, 3]], y, lm)\n"
   ]
  },
  {
   "cell_type": "markdown",
   "metadata": {},
   "source": [
    "### Similar in Statsmodels"
   ]
  },
  {
   "cell_type": "code",
   "execution_count": 101,
   "metadata": {
    "collapsed": false
   },
   "outputs": [
    {
     "data": {
      "text/html": [
       "<table class=\"simpletable\">\n",
       "<caption>OLS Regression Results</caption>\n",
       "<tr>\n",
       "  <th>Dep. Variable:</th>            <td>y</td>        <th>  R-squared:         </th> <td>   0.023</td> \n",
       "</tr>\n",
       "<tr>\n",
       "  <th>Model:</th>                   <td>OLS</td>       <th>  Adj. R-squared:    </th> <td>   0.023</td> \n",
       "</tr>\n",
       "<tr>\n",
       "  <th>Method:</th>             <td>Least Squares</td>  <th>  F-statistic:       </th> <td>   104.0</td> \n",
       "</tr>\n",
       "<tr>\n",
       "  <th>Date:</th>             <td>Thu, 04 Feb 2016</td> <th>  Prob (F-statistic):</th> <td>1.04e-87</td> \n",
       "</tr>\n",
       "<tr>\n",
       "  <th>Time:</th>                 <td>11:34:52</td>     <th>  Log-Likelihood:    </th> <td> -92197.</td> \n",
       "</tr>\n",
       "<tr>\n",
       "  <th>No. Observations:</th>      <td> 17379</td>      <th>  AIC:               </th> <td>1.844e+05</td>\n",
       "</tr>\n",
       "<tr>\n",
       "  <th>Df Residuals:</th>          <td> 17374</td>      <th>  BIC:               </th> <td>1.844e+05</td>\n",
       "</tr>\n",
       "<tr>\n",
       "  <th>Df Model:</th>              <td>     4</td>      <th>                     </th>     <td> </td>    \n",
       "</tr>\n",
       "<tr>\n",
       "  <th>Covariance Type:</th>      <td>nonrobust</td>    <th>                     </th>     <td> </td>    \n",
       "</tr>\n",
       "</table>\n",
       "<table class=\"simpletable\">\n",
       "<tr>\n",
       "              <td></td>                <th>coef</th>     <th>std err</th>      <th>t</th>      <th>P>|t|</th> <th>[95.0% Conf. Int.]</th> \n",
       "</tr>\n",
       "<tr>\n",
       "  <th>Intercept</th>                <td> 6.782e+11</td> <td> 1.08e+13</td> <td>    0.063</td> <td> 0.950</td> <td>-2.06e+13  2.19e+13</td>\n",
       "</tr>\n",
       "<tr>\n",
       "  <th>weather[[1, 2, 3, 4]][0]</th> <td>-6.782e+11</td> <td> 1.08e+13</td> <td>   -0.063</td> <td> 0.950</td> <td>-2.19e+13  2.06e+13</td>\n",
       "</tr>\n",
       "<tr>\n",
       "  <th>weather[[1, 2, 3, 4]][1]</th> <td>-6.782e+11</td> <td> 1.08e+13</td> <td>   -0.063</td> <td> 0.950</td> <td>-2.19e+13  2.06e+13</td>\n",
       "</tr>\n",
       "<tr>\n",
       "  <th>weather[[1, 2, 3, 4]][2]</th> <td>-6.782e+11</td> <td> 1.08e+13</td> <td>   -0.063</td> <td> 0.950</td> <td>-2.19e+13  2.06e+13</td>\n",
       "</tr>\n",
       "<tr>\n",
       "  <th>weather[[1, 2, 3, 4]][3]</th> <td>-6.782e+11</td> <td> 1.08e+13</td> <td>   -0.063</td> <td> 0.950</td> <td>-2.19e+13  2.06e+13</td>\n",
       "</tr>\n",
       "</table>\n",
       "<table class=\"simpletable\">\n",
       "<tr>\n",
       "  <th>Omnibus:</th>       <td>9002.161</td> <th>  Durbin-Watson:     </th> <td>   0.136</td> \n",
       "</tr>\n",
       "<tr>\n",
       "  <th>Prob(Omnibus):</th>  <td> 0.000</td>  <th>  Jarque-Bera (JB):  </th> <td>58970.408</td>\n",
       "</tr>\n",
       "<tr>\n",
       "  <th>Skew:</th>           <td> 2.469</td>  <th>  Prob(JB):          </th> <td>    0.00</td> \n",
       "</tr>\n",
       "<tr>\n",
       "  <th>Kurtosis:</th>       <td>10.554</td>  <th>  Cond. No.          </th> <td>8.15e+13</td> \n",
       "</tr>\n",
       "</table>"
      ],
      "text/plain": [
       "<class 'statsmodels.iolib.summary.Summary'>\n",
       "\"\"\"\n",
       "                            OLS Regression Results                            \n",
       "==============================================================================\n",
       "Dep. Variable:                      y   R-squared:                       0.023\n",
       "Model:                            OLS   Adj. R-squared:                  0.023\n",
       "Method:                 Least Squares   F-statistic:                     104.0\n",
       "Date:                Thu, 04 Feb 2016   Prob (F-statistic):           1.04e-87\n",
       "Time:                        11:34:52   Log-Likelihood:                -92197.\n",
       "No. Observations:               17379   AIC:                         1.844e+05\n",
       "Df Residuals:                   17374   BIC:                         1.844e+05\n",
       "Df Model:                           4                                         \n",
       "Covariance Type:            nonrobust                                         \n",
       "============================================================================================\n",
       "                               coef    std err          t      P>|t|      [95.0% Conf. Int.]\n",
       "--------------------------------------------------------------------------------------------\n",
       "Intercept                 6.782e+11   1.08e+13      0.063      0.950     -2.06e+13  2.19e+13\n",
       "weather[[1, 2, 3, 4]][0] -6.782e+11   1.08e+13     -0.063      0.950     -2.19e+13  2.06e+13\n",
       "weather[[1, 2, 3, 4]][1] -6.782e+11   1.08e+13     -0.063      0.950     -2.19e+13  2.06e+13\n",
       "weather[[1, 2, 3, 4]][2] -6.782e+11   1.08e+13     -0.063      0.950     -2.19e+13  2.06e+13\n",
       "weather[[1, 2, 3, 4]][3] -6.782e+11   1.08e+13     -0.063      0.950     -2.19e+13  2.06e+13\n",
       "==============================================================================\n",
       "Omnibus:                     9002.161   Durbin-Watson:                   0.136\n",
       "Prob(Omnibus):                  0.000   Jarque-Bera (JB):            58970.408\n",
       "Skew:                           2.469   Prob(JB):                         0.00\n",
       "Kurtosis:                      10.554   Cond. No.                     8.15e+13\n",
       "==============================================================================\n",
       "\n",
       "Warnings:\n",
       "[1] Standard Errors assume that the covariance matrix of the errors is correctly specified.\n",
       "[2] The smallest eigenvalue is 4.04e-24. This might indicate that there are\n",
       "strong multicollinearity problems or that the design matrix is singular.\n",
       "\"\"\""
      ]
     },
     "execution_count": 101,
     "metadata": {},
     "output_type": "execute_result"
    }
   ],
   "source": [
    "# all dummies in the model\n",
    "lm_stats = smf.ols(formula='y ~ weather[[1, 2, 3, 4]]', data=bike_data).fit()\n",
    "lm_stats.summary()"
   ]
  },
  {
   "cell_type": "code",
   "execution_count": 102,
   "metadata": {
    "collapsed": false
   },
   "outputs": [
    {
     "data": {
      "text/html": [
       "<table class=\"simpletable\">\n",
       "<caption>OLS Regression Results</caption>\n",
       "<tr>\n",
       "  <th>Dep. Variable:</th>            <td>y</td>        <th>  R-squared:         </th> <td>   0.023</td> \n",
       "</tr>\n",
       "<tr>\n",
       "  <th>Model:</th>                   <td>OLS</td>       <th>  Adj. R-squared:    </th> <td>   0.023</td> \n",
       "</tr>\n",
       "<tr>\n",
       "  <th>Method:</th>             <td>Least Squares</td>  <th>  F-statistic:       </th> <td>   138.7</td> \n",
       "</tr>\n",
       "<tr>\n",
       "  <th>Date:</th>             <td>Thu, 04 Feb 2016</td> <th>  Prob (F-statistic):</th> <td>8.08e-89</td> \n",
       "</tr>\n",
       "<tr>\n",
       "  <th>Time:</th>                 <td>11:34:53</td>     <th>  Log-Likelihood:    </th> <td> -92197.</td> \n",
       "</tr>\n",
       "<tr>\n",
       "  <th>No. Observations:</th>      <td> 17379</td>      <th>  AIC:               </th> <td>1.844e+05</td>\n",
       "</tr>\n",
       "<tr>\n",
       "  <th>Df Residuals:</th>          <td> 17375</td>      <th>  BIC:               </th> <td>1.844e+05</td>\n",
       "</tr>\n",
       "<tr>\n",
       "  <th>Df Model:</th>              <td>     3</td>      <th>                     </th>     <td> </td>    \n",
       "</tr>\n",
       "<tr>\n",
       "  <th>Covariance Type:</th>      <td>nonrobust</td>    <th>                     </th>     <td> </td>    \n",
       "</tr>\n",
       "</table>\n",
       "<table class=\"simpletable\">\n",
       "<tr>\n",
       "            <td></td>               <th>coef</th>     <th>std err</th>      <th>t</th>      <th>P>|t|</th> <th>[95.0% Conf. Int.]</th> \n",
       "</tr>\n",
       "<tr>\n",
       "  <th>Intercept</th>             <td>    2.6667</td> <td>   28.134</td> <td>    0.095</td> <td> 0.924</td> <td>  -52.478    57.812</td>\n",
       "</tr>\n",
       "<tr>\n",
       "  <th>weather[[1, 2, 3]][0]</th> <td>   37.8788</td> <td>   28.138</td> <td>    1.346</td> <td> 0.178</td> <td>  -17.274    93.031</td>\n",
       "</tr>\n",
       "<tr>\n",
       "  <th>weather[[1, 2, 3]][1]</th> <td>   26.9286</td> <td>   28.143</td> <td>    0.957</td> <td> 0.339</td> <td>  -28.235    82.092</td>\n",
       "</tr>\n",
       "<tr>\n",
       "  <th>weather[[1, 2, 3]][2]</th> <td>   13.3890</td> <td>   28.164</td> <td>    0.475</td> <td> 0.635</td> <td>  -41.814    68.592</td>\n",
       "</tr>\n",
       "</table>\n",
       "<table class=\"simpletable\">\n",
       "<tr>\n",
       "  <th>Omnibus:</th>       <td>9001.632</td> <th>  Durbin-Watson:     </th> <td>   0.136</td> \n",
       "</tr>\n",
       "<tr>\n",
       "  <th>Prob(Omnibus):</th>  <td> 0.000</td>  <th>  Jarque-Bera (JB):  </th> <td>58962.554</td>\n",
       "</tr>\n",
       "<tr>\n",
       "  <th>Skew:</th>           <td> 2.468</td>  <th>  Prob(JB):          </th> <td>    0.00</td> \n",
       "</tr>\n",
       "<tr>\n",
       "  <th>Kurtosis:</th>       <td>10.553</td>  <th>  Cond. No.          </th> <td>    189.</td> \n",
       "</tr>\n",
       "</table>"
      ],
      "text/plain": [
       "<class 'statsmodels.iolib.summary.Summary'>\n",
       "\"\"\"\n",
       "                            OLS Regression Results                            \n",
       "==============================================================================\n",
       "Dep. Variable:                      y   R-squared:                       0.023\n",
       "Model:                            OLS   Adj. R-squared:                  0.023\n",
       "Method:                 Least Squares   F-statistic:                     138.7\n",
       "Date:                Thu, 04 Feb 2016   Prob (F-statistic):           8.08e-89\n",
       "Time:                        11:34:53   Log-Likelihood:                -92197.\n",
       "No. Observations:               17379   AIC:                         1.844e+05\n",
       "Df Residuals:                   17375   BIC:                         1.844e+05\n",
       "Df Model:                           3                                         \n",
       "Covariance Type:            nonrobust                                         \n",
       "=========================================================================================\n",
       "                            coef    std err          t      P>|t|      [95.0% Conf. Int.]\n",
       "-----------------------------------------------------------------------------------------\n",
       "Intercept                 2.6667     28.134      0.095      0.924       -52.478    57.812\n",
       "weather[[1, 2, 3]][0]    37.8788     28.138      1.346      0.178       -17.274    93.031\n",
       "weather[[1, 2, 3]][1]    26.9286     28.143      0.957      0.339       -28.235    82.092\n",
       "weather[[1, 2, 3]][2]    13.3890     28.164      0.475      0.635       -41.814    68.592\n",
       "==============================================================================\n",
       "Omnibus:                     9001.632   Durbin-Watson:                   0.136\n",
       "Prob(Omnibus):                  0.000   Jarque-Bera (JB):            58962.554\n",
       "Skew:                           2.468   Prob(JB):                         0.00\n",
       "Kurtosis:                      10.553   Cond. No.                         189.\n",
       "==============================================================================\n",
       "\n",
       "Warnings:\n",
       "[1] Standard Errors assume that the covariance matrix of the errors is correctly specified.\n",
       "\"\"\""
      ]
     },
     "execution_count": 102,
     "metadata": {},
     "output_type": "execute_result"
    }
   ],
   "source": [
    "#droping one\n",
    "lm_stats = smf.ols(formula='y ~ weather[[1, 2, 3]]', data=bike_data).fit()\n",
    "lm_stats.summary()"
   ]
  },
  {
   "cell_type": "markdown",
   "metadata": {},
   "source": [
    "### What's the interpretation ? Do you want to keep all your dummy variables or drop one? Why? \n",
    "\n",
    "\n"
   ]
  },
  {
   "cell_type": "markdown",
   "metadata": {},
   "source": [
    "Answer:"
   ]
  },
  {
   "cell_type": "markdown",
   "metadata": {},
   "source": [
    "## Guided Practice: Combining non-correlated features into a better model (15 mins)"
   ]
  },
  {
   "cell_type": "code",
   "execution_count": 103,
   "metadata": {
    "collapsed": false
   },
   "outputs": [
    {
     "data": {
      "text/plain": [
       "instant         int64\n",
       "dteday         object\n",
       "season          int64\n",
       "yr              int64\n",
       "mnth            int64\n",
       "hr              int64\n",
       "holiday         int64\n",
       "weekday         int64\n",
       "workingday      int64\n",
       "weathersit      int64\n",
       "temp          float64\n",
       "atemp         float64\n",
       "hum           float64\n",
       "windspeed     float64\n",
       "casual          int64\n",
       "registered      int64\n",
       "cnt             int64\n",
       "dtype: object"
      ]
     },
     "execution_count": 103,
     "metadata": {},
     "output_type": "execute_result"
    }
   ],
   "source": [
    "bike_data.dtypes"
   ]
  },
  {
   "cell_type": "markdown",
   "metadata": {},
   "source": [
    "## With a partner, complete this code together and visualize the correlations of all the numerical features built into the data set.\n",
    "\n",
    "We want to:\n",
    "\n",
    "- Add the three significant weather situations into our current model.\n",
    "- Find two more features that are not correlated with current features, but could be strong indicators for predicting guest riders."
   ]
  },
  {
   "cell_type": "code",
   "execution_count": null,
   "metadata": {
    "collapsed": true
   },
   "outputs": [],
   "source": [
    "#starter \n",
    "lm = linear_model.LinearRegression()\n",
    "bikemodel_data = bike_data.join() # add in the three weather situations\n",
    "\n",
    "cmap = sns.diverging_palette(220, 10, as_cmap=True)\n",
    "correlations = # what are we getting the correlations of?\n",
    "print correlations\n",
    "print sns.heatmap(correlations, cmap=cmap)\n",
    "\n",
    "columns_to_keep = [] #[which_variables?]\n",
    "final_feature_set = bikemodel_data[columns_to_keep]\n",
    "\n",
    "get_linear_model_metrics(final_feature_set, y, lm)"
   ]
  },
  {
   "cell_type": "code",
   "execution_count": null,
   "metadata": {
    "collapsed": true
   },
   "outputs": [],
   "source": [
    "#sklearn\n",
    "final_feature_set = bikemodel_data[columns_to_keep]\n",
    "\n",
    "get_linear_model_metrics(final_feature_set, np.log10(y+1), lm)"
   ]
  },
  {
   "cell_type": "code",
   "execution_count": null,
   "metadata": {
    "collapsed": true
   },
   "outputs": [],
   "source": [
    "#Stats models\n",
    "log_y = np.log10(y+1)\n",
    "lm = smf.ols(formula=' log_y ~ temp + hum + windspeed + weather_1 + weather_2 + weather_3 + holiday + hour_1 + hour_2 + hour_3 + hour_4 + hour_5 + hour_6 + hour_7 + hour_8 + hour_9 + hour_10 + hour_11 + hour_12 + hour_13 + hour_14 + hour_15 + hour_16 + hour_18 + hour_19 + hour_20 + hour_21 + hour_22 + hour_23', data=bikemodel_data).fit()\n",
    "#print the full summary\n",
    "lm.summary()"
   ]
  },
  {
   "cell_type": "markdown",
   "metadata": {},
   "source": [
    "## Independent Practice: Building models for other y variables (25 minutes)\n",
    "\n",
    "We've completely a model together that explains casual guest riders. Now it's your turn to build another model, using a different y variable: registered riders.\n",
    "\n",
    "#### Pay attention to:\n",
    "\n",
    "* the distribution of riders (should we rescale the data?)  \n",
    "* checking correlations with variables and registered riders  \n",
    "* having a feature space (our matrix) with low multicollinearity  \n",
    "* model complexity vs explanation of variance: at what point do features in a model stop improving r-squared?  \n",
    "* the linear assumption -- given all feature values being 0, should we have no ridership? negative ridership? positive ridership?\n",
    "\n",
    "#### Bonus\n",
    "\n",
    "* Which variables would make sense to dummy (because they are categorical, not continuous)?  \n",
    "* What features might explain ridership but aren't included in the data set? \n",
    "* Is there a way to build these using pandas and the features available?\n",
    "* Outcomes If your model at least improves upon the original model and the explanatory effects (coefficients) make sense, consider this a complete task. \n",
    "\n",
    "### If your model has an r-squared above .4, this a relatively effective model for the data available. Kudos!"
   ]
  },
  {
   "cell_type": "code",
   "execution_count": null,
   "metadata": {
    "collapsed": true
   },
   "outputs": [],
   "source": []
  }
 ],
 "metadata": {
  "anaconda-cloud": {},
  "kernelspec": {
   "display_name": "Python [conda root]",
   "language": "python",
   "name": "conda-root-py"
  },
  "language_info": {
   "codemirror_mode": {
    "name": "ipython",
    "version": 3
   },
   "file_extension": ".py",
   "mimetype": "text/x-python",
   "name": "python",
   "nbconvert_exporter": "python",
   "pygments_lexer": "ipython3",
   "version": "3.5.2"
 },
 "nbformat": 4,
 "nbformat_minor": 0
}
