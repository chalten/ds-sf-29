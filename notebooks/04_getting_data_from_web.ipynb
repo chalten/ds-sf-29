{
 "cells": [
  {
   "cell_type": "code",
   "execution_count": 5,
   "metadata": {
    "collapsed": false
   },
   "outputs": [],
   "source": [
    "import sys\n",
    "import requests     # how python goes onto the internet!\n",
    "import re           # regex\n",
    "from bs4 import BeautifulSoup # a python HTML parser (version 3)\n",
    "# note that may first you have to install BeautifulSoup"
   ]
  },
  {
   "cell_type": "code",
   "execution_count": null,
   "metadata": {
    "collapsed": true
   },
   "outputs": [],
   "source": []
  },
  {
   "cell_type": "code",
   "execution_count": 3,
   "metadata": {
    "collapsed": true
   },
   "outputs": [],
   "source": [
    "# let's turn to stock prices\n",
    "# http://finance.google.com/finance?q=aapl"
   ]
  },
  {
   "cell_type": "code",
   "execution_count": 6,
   "metadata": {
    "collapsed": true
   },
   "outputs": [],
   "source": [
    "symbol = 'aapl'"
   ]
  },
  {
   "cell_type": "code",
   "execution_count": 7,
   "metadata": {
    "collapsed": false
   },
   "outputs": [],
   "source": [
    "# Let's grab the raw html from the page\n",
    "r = requests.get('http://finance.google.com/finance?q='+symbol) # the url of the google finance page goes in here\n",
    "# requests in Python allows you to make requests"
   ]
  },
  {
   "cell_type": "code",
   "execution_count": 8,
   "metadata": {
    "collapsed": false
   },
   "outputs": [],
   "source": [
    "# b = BeautifulSoup(r.text, \"html5lib\") # create a beautifulsoup object\n",
    "b = BeautifulSoup(r.text, 'html.parser') # try this line instead if you have problems"
   ]
  },
  {
   "cell_type": "code",
   "execution_count": 11,
   "metadata": {
    "collapsed": false
   },
   "outputs": [],
   "source": [
    "# b.prettify() # will print the html nicely"
   ]
  },
  {
   "cell_type": "code",
   "execution_count": 9,
   "metadata": {
    "collapsed": false
   },
   "outputs": [
    {
     "data": {
      "text/plain": [
       "[<span class=\"gbi\" id=\"gbn\"></span>,\n",
       " <span class=\"gbf\" id=\"gbf\"></span>,\n",
       " <span id=\"gbe\"></span>,\n",
       " <span class=\"fjfe-searchbox-button-wrapper\"><span class=\"fjfe-searchbox-button-wrapper2\"><input class=\"fjfe-searchbox-button\" tabindex=\"2\" type=\"submit\" value=\"Get quotes\"/></span></span>,\n",
       " <span class=\"fjfe-searchbox-button-wrapper2\"><input class=\"fjfe-searchbox-button\" tabindex=\"2\" type=\"submit\" value=\"Get quotes\"/></span>,\n",
       " <span class=\"fjfe-recentquotes-duration\">(<a href=\"//www.google.com/history/optout?hl=en\">30 days</a>)</span>,\n",
       " <span class=\"fjfe-chg-toggle\">chg</span>,\n",
       " <span class=\"fjfe-perc-toggle\">%</span>,\n",
       " <span class=\"pr\">\n",
       " <span id=\"ref_22144_l\">111.73</span>\n",
       " </span>,\n",
       " <span id=\"ref_22144_l\">111.73</span>,\n",
       " <span class=\"ch bld\"><span class=\"chg\" id=\"ref_22144_c\">+1.67</span>\n",
       " <span class=\"chg\" id=\"ref_22144_cp\">(1.52%)</span>\n",
       " </span>,\n",
       " <span class=\"chg\" id=\"ref_22144_c\">+1.67</span>,\n",
       " <span class=\"chg\" id=\"ref_22144_cp\">(1.52%)</span>,\n",
       " <span class=\"bld\" id=\"ref_22144_el\">111.79</span>,\n",
       " <span class=\"chg\" id=\"ref_22144_ec\">+0.06</span>,\n",
       " <span class=\"chg\" id=\"ref_22144_ecp\">(0.05%)</span>,\n",
       " <span class=\"dis-large\"><nobr>NASDAQ\n",
       " real-time data -\n",
       " <a class=\"dis-large\" href=\"//www.google.com/help/stock_disclaimer.html#realtime\">Disclaimer</a>\n",
       " </nobr></span>,\n",
       " <span class=\"settings-link\">Settings</span>,\n",
       " <span class=\"technicals-link\">Technicals</span>,\n",
       " <span style=\"white-space:nowrap;\">\n",
       " <img alt=\"Link to chart icon.\" class=\"linktochart-img SP_link\" hight=\"9\" src=\"/finance/s/m4C5KaofCbA/images/cleardot.gif\" width=\"16\"/>\n",
       " <span class=\"linktochart-link\">\n",
       " Link to this view</span>\n",
       " </span>,\n",
       " <span class=\"linktochart-link\">\n",
       " Link to this view</span>,\n",
       " <span class=\"chart-dis\">Volume delayed by 15 mins.<br>Prices are not from all markets.<br>Sources include SIX.<br>\n",
       " </br></br></br></span>,\n",
       " <span class=\"id-related-edit-col linkbtn\">Add or remove columns</span>]"
      ]
     },
     "execution_count": 9,
     "metadata": {},
     "output_type": "execute_result"
    }
   ],
   "source": [
    "# find all span tags\n",
    "b.findAll('span')\n",
    "# b.find_all('span') for bs4 users"
   ]
  },
  {
   "cell_type": "code",
   "execution_count": 13,
   "metadata": {
    "collapsed": false
   },
   "outputs": [
    {
     "data": {
      "text/plain": [
       "re.compile(r'ref_\\d+_l', re.UNICODE)"
      ]
     },
     "execution_count": 13,
     "metadata": {},
     "output_type": "execute_result"
    }
   ],
   "source": [
    "# the pattern we recognized from the website\n",
    "re_tag = re.compile(\"ref_\\d+_l\") \n",
    "re_tag"
   ]
  },
  {
   "cell_type": "code",
   "execution_count": 14,
   "metadata": {
    "collapsed": false
   },
   "outputs": [],
   "source": [
    "#this tag finds the tag with the price in it!!!!\n",
    "span_tag = b.find('span', attrs={'id': re_tag}) \n",
    "# use find to return THE ONE AND ONLY span tags with an id that matches our regex\n",
    "# use findAll to find all matches"
   ]
  },
  {
   "cell_type": "code",
   "execution_count": 15,
   "metadata": {
    "collapsed": false
   },
   "outputs": [
    {
     "data": {
      "text/plain": [
       "'111.73'"
      ]
     },
     "execution_count": 15,
     "metadata": {},
     "output_type": "execute_result"
    }
   ],
   "source": [
    "quote = span_tag.text\n",
    "quote"
   ]
  },
  {
   "cell_type": "code",
   "execution_count": null,
   "metadata": {
    "collapsed": true
   },
   "outputs": [],
   "source": []
  },
  {
   "cell_type": "code",
   "execution_count": null,
   "metadata": {
    "collapsed": true
   },
   "outputs": [],
   "source": [
    "##### EXERCISE #####\n",
    "# Make a method  get_stock_price that takes in ANY stock ticker and grabs the current price\n",
    "# If the stock ticker doesn't exist, return -1"
   ]
  },
  {
   "cell_type": "code",
   "execution_count": null,
   "metadata": {
    "collapsed": true
   },
   "outputs": [],
   "source": [
    "def get_stock_price(ticker):\n",
    "    response = requests.get(\"http://google.com/finance?q=\"+ticker)\n",
    "    parser = BeautifulSoup(response.text, \"html.parser\")\n",
    "    pattern = re.compile(\"ref_\\d+_l\")\n",
    "    span_tag = parser.find(\"span\", attrs={\"id\":pattern})\n",
    "    if span_tag:\n",
    "        return span_tag.text\n",
    "    else:\n",
    "        return -1\n",
    "    \n",
    "    \n",
    "    "
   ]
  },
  {
   "cell_type": "code",
   "execution_count": null,
   "metadata": {
    "collapsed": false
   },
   "outputs": [],
   "source": [
    "for ticker in ['ge', 'spy']:\n",
    "    print get_stock_price(ticker)"
   ]
  },
  {
   "cell_type": "code",
   "execution_count": null,
   "metadata": {
    "collapsed": true
   },
   "outputs": [],
   "source": []
  },
  {
   "cell_type": "code",
   "execution_count": null,
   "metadata": {
    "collapsed": true
   },
   "outputs": [],
   "source": []
  },
  {
   "cell_type": "code",
   "execution_count": null,
   "metadata": {
    "collapsed": false
   },
   "outputs": [],
   "source": [
    "response = requests.get(\"http://www.nytimes.com/\")\n",
    "parser = BeautifulSoup(response.text, \"html.parser\")\n",
    "for story in parser.findAll(\"h2\", attrs={'class':'story-heading'}):\n",
    "    print story.text"
   ]
  },
  {
   "cell_type": "code",
   "execution_count": null,
   "metadata": {
    "collapsed": false
   },
   "outputs": [],
   "source": [
    "response = requests.get(\"https://en.wikipedia.org/wiki/Wikipedia:Today%27s_featured_article/March_20,_2010\")\n",
    "parser = BeautifulSoup(response.text, \"html.parser\")"
   ]
  },
  {
   "cell_type": "code",
   "execution_count": null,
   "metadata": {
    "collapsed": false
   },
   "outputs": [],
   "source": [
    "parser.find('div', attrs={'id':'mw-content-text'}).text"
   ]
  }
 ],
 "metadata": {
  "anaconda-cloud": {},
  "kernelspec": {
   "display_name": "Python [conda root]",
   "language": "python",
   "name": "conda-root-py"
  },
  "language_info": {
   "codemirror_mode": {
    "name": "ipython",
    "version": 3
   },
   "file_extension": ".py",
   "mimetype": "text/x-python",
   "name": "python",
   "nbconvert_exporter": "python",
   "pygments_lexer": "ipython3",
   "version": "3.5.2"
  }
 },
 "nbformat": 4,
 "nbformat_minor": 0
}
